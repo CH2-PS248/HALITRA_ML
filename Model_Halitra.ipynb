{
  "cells": [
    {
      "cell_type": "code",
      "execution_count": null,
      "metadata": {
        "id": "JeoupwZYhyQj"
      },
      "outputs": [],
      "source": [
        "import numpy as np\n",
        "import pandas as pd\n",
        "import tensorflow as tf\n",
        "import os\n",
        "import cv2\n",
        "import shutil\n",
        "import gc\n",
        "import zipfile\n",
        "import matplotlib.pyplot as plt\n",
        "from tqdm import tqdm\n",
        "from google.colab import drive\n",
        "from sklearn.model_selection import train_test_split"
      ]
    },
    {
      "cell_type": "code",
      "execution_count": null,
      "metadata": {
        "colab": {
          "base_uri": "https://localhost:8080/"
        },
        "id": "QRVvJLD_jxX0",
        "outputId": "d954d526-1e63-4b36-c0df-82dab366f991"
      },
      "outputs": [
        {
          "output_type": "stream",
          "name": "stdout",
          "text": [
            "Mounted at /tmp/gdrive\n"
          ]
        }
      ],
      "source": [
        "drive.mount('/tmp/gdrive')"
      ]
    },
    {
      "cell_type": "code",
      "execution_count": null,
      "metadata": {
        "id": "XawT-M6ClM_k"
      },
      "outputs": [],
      "source": [
        "local_zip = '/tmp/gdrive/MyDrive/Halitra/bisindo.zip'\n",
        "zip_ref   = zipfile.ZipFile(local_zip, 'r')\n",
        "zip_ref.extractall('/tmp')\n",
        "zip_ref.close()"
      ]
    },
    {
      "cell_type": "code",
      "execution_count": null,
      "metadata": {
        "id": "X2fF5Kqbl-vf"
      },
      "outputs": [],
      "source": [
        "training_dir = os.path.join('/tmp', 'bisindo')"
      ]
    },
    {
      "cell_type": "code",
      "execution_count": null,
      "metadata": {
        "id": "pi6SZZGiqeYF"
      },
      "outputs": [],
      "source": [
        "validation_dataset_portion = 0.1"
      ]
    },
    {
      "cell_type": "code",
      "source": [
        "!rm -r validation"
      ],
      "metadata": {
        "colab": {
          "base_uri": "https://localhost:8080/"
        },
        "id": "j40fOHhWmbsS",
        "outputId": "af022b47-8ae8-4da2-ae26-5cc42ebc792d"
      },
      "execution_count": null,
      "outputs": [
        {
          "output_type": "stream",
          "name": "stdout",
          "text": [
            "rm: cannot remove 'validation': No such file or directory\n"
          ]
        }
      ]
    },
    {
      "cell_type": "code",
      "source": [
        "for class_dir_name in os.listdir(training_dir):\n",
        "  class_dir_path = os.path.join(training_dir, class_dir_name)\n",
        "  train_dataset_num = len(os.listdir(class_dir_path))\n",
        "\n",
        "  val_dataset_num = train_dataset_num * validation_dataset_portion\n",
        "\n",
        "  val_class_dir_path = os.path.join('/tmp/validation/', class_dir_name)\n",
        "  os.mkdir(val_class_dir_path)\n",
        "\n",
        "  counter = 0\n",
        "\n",
        "  for file_name in os.listdir(class_dir_path):\n",
        "    filepath = os.path.join(class_dir_path, file_name)\n",
        "    if counter < val_dataset_num:\n",
        "      destination = os.path.join(val_class_dir_path, file_name)\n",
        "      shutil.move(filepath, destination)\n",
        "      counter += 1"
      ],
      "metadata": {
        "id": "NzR3RlEdDOFe"
      },
      "execution_count": null,
      "outputs": []
    },
    {
      "cell_type": "code",
      "execution_count": null,
      "metadata": {
        "id": "iBUhwLiarsP_"
      },
      "outputs": [],
      "source": [
        "training = tf.keras.preprocessing.image.ImageDataGenerator (\n",
        "    rescale = 1./255,\n",
        "    horizontal_flip = True\n",
        ")\n",
        "validation = tf.keras.preprocessing.image.ImageDataGenerator (\n",
        "    rescale = 1./255,\n",
        ")"
      ]
    },
    {
      "cell_type": "code",
      "execution_count": null,
      "metadata": {
        "id": "7WzkjXIrv7bh",
        "colab": {
          "base_uri": "https://localhost:8080/"
        },
        "outputId": "e30d284f-ec2c-4be8-cf61-2feddd525252"
      },
      "outputs": [
        {
          "output_type": "stream",
          "name": "stdout",
          "text": [
            "Found 10241 images belonging to 25 classes.\n",
            "Found 1150 images belonging to 25 classes.\n"
          ]
        }
      ],
      "source": [
        "training_generator = training.flow_from_directory(\n",
        "    training_dir,\n",
        "    target_size = (150,150),\n",
        "    batch_size = 32,\n",
        "    class_mode = 'categorical',\n",
        "    shuffle = True\n",
        ")\n",
        "\n",
        "validation_generator = validation.flow_from_directory(\n",
        "    '/tmp/validation',\n",
        "    target_size = (150,150),\n",
        "    batch_size = 32,\n",
        "    class_mode = 'categorical',\n",
        "    shuffle = True\n",
        ")"
      ]
    },
    {
      "cell_type": "code",
      "execution_count": null,
      "metadata": {
        "id": "FHfMz8t2zras"
      },
      "outputs": [],
      "source": [
        "model = tf.keras.models.Sequential ([\n",
        "    tf.keras.layers.Conv2D(8, (3, 3), activation = 'elu', input_shape = (150, 150, 3)),\n",
        "    tf.keras.layers.MaxPooling2D(2, 2),\n",
        "    tf.keras.layers.Flatten(),\n",
        "    tf.keras.layers.Dense(32, activation = 'elu'),\n",
        "    tf.keras.layers.Dense(25, activation = 'softmax')\n",
        "])"
      ]
    },
    {
      "cell_type": "code",
      "source": [
        "model.compile (\n",
        "    loss = 'categorical_crossentropy',\n",
        "    metrics = ['acc'],\n",
        "    optimizer = 'adam'\n",
        ")"
      ],
      "metadata": {
        "id": "lnSfl5WENpy3"
      },
      "execution_count": null,
      "outputs": []
    },
    {
      "cell_type": "code",
      "source": [
        "model.fit(\n",
        "    training_generator,\n",
        "    validation_data = validation_generator,\n",
        "    epochs = 15\n",
        ")"
      ],
      "metadata": {
        "colab": {
          "base_uri": "https://localhost:8080/"
        },
        "id": "NKQ2xhHwNxJs",
        "outputId": "8d4e4793-c1e4-45a2-b8e7-1c76615b43a9"
      },
      "execution_count": null,
      "outputs": [
        {
          "output_type": "stream",
          "name": "stdout",
          "text": [
            "Epoch 1/15\n",
            "321/321 [==============================] - 35s 74ms/step - loss: 3.7066 - acc: 0.0592 - val_loss: 3.1422 - val_acc: 0.0530\n",
            "Epoch 2/15\n",
            "321/321 [==============================] - 21s 67ms/step - loss: 3.0560 - acc: 0.0805 - val_loss: 3.0937 - val_acc: 0.0722\n",
            "Epoch 3/15\n",
            "321/321 [==============================] - 24s 74ms/step - loss: 2.7498 - acc: 0.1587 - val_loss: 2.5152 - val_acc: 0.2200\n",
            "Epoch 4/15\n",
            "321/321 [==============================] - 22s 69ms/step - loss: 2.0263 - acc: 0.3957 - val_loss: 1.8173 - val_acc: 0.4504\n",
            "Epoch 5/15\n",
            "321/321 [==============================] - 35s 108ms/step - loss: 1.4540 - acc: 0.5790 - val_loss: 1.3577 - val_acc: 0.6026\n",
            "Epoch 6/15\n",
            "321/321 [==============================] - 20s 64ms/step - loss: 1.1427 - acc: 0.6649 - val_loss: 1.2320 - val_acc: 0.6391\n",
            "Epoch 7/15\n",
            "321/321 [==============================] - 21s 66ms/step - loss: 0.8636 - acc: 0.7565 - val_loss: 1.0848 - val_acc: 0.6957\n",
            "Epoch 8/15\n",
            "321/321 [==============================] - 22s 67ms/step - loss: 0.6976 - acc: 0.8064 - val_loss: 1.0682 - val_acc: 0.6991\n",
            "Epoch 9/15\n",
            "321/321 [==============================] - 23s 70ms/step - loss: 0.5217 - acc: 0.8558 - val_loss: 1.0370 - val_acc: 0.7104\n",
            "Epoch 10/15\n",
            "321/321 [==============================] - 21s 65ms/step - loss: 0.3987 - acc: 0.8960 - val_loss: 0.9977 - val_acc: 0.7183\n",
            "Epoch 11/15\n",
            "321/321 [==============================] - 21s 65ms/step - loss: 0.3130 - acc: 0.9146 - val_loss: 1.0731 - val_acc: 0.7104\n",
            "Epoch 12/15\n",
            "321/321 [==============================] - 21s 64ms/step - loss: 0.2478 - acc: 0.9347 - val_loss: 1.0125 - val_acc: 0.7409\n",
            "Epoch 13/15\n",
            "321/321 [==============================] - 22s 69ms/step - loss: 0.1884 - acc: 0.9502 - val_loss: 1.1042 - val_acc: 0.7296\n",
            "Epoch 14/15\n",
            "321/321 [==============================] - 21s 65ms/step - loss: 0.1410 - acc: 0.9672 - val_loss: 1.1222 - val_acc: 0.7217\n",
            "Epoch 15/15\n",
            "321/321 [==============================] - 21s 64ms/step - loss: 0.1110 - acc: 0.9710 - val_loss: 1.1703 - val_acc: 0.7261\n"
          ]
        },
        {
          "output_type": "execute_result",
          "data": {
            "text/plain": [
              "<keras.src.callbacks.History at 0x78625ba047f0>"
            ]
          },
          "metadata": {},
          "execution_count": 12
        }
      ]
    },
    {
      "cell_type": "code",
      "source": [
        "model.save('/tmp/gdrive/MyDrive/Halitras/my_model.h5')"
      ],
      "metadata": {
        "colab": {
          "base_uri": "https://localhost:8080/"
        },
        "id": "G9NncWglR1C9",
        "outputId": "ee4cb0ee-3f4b-4ef4-cf9a-fe9e2765ae81"
      },
      "execution_count": null,
      "outputs": [
        {
          "output_type": "stream",
          "name": "stderr",
          "text": [
            "/usr/local/lib/python3.10/dist-packages/keras/src/engine/training.py:3079: UserWarning: You are saving your model as an HDF5 file via `model.save()`. This file format is considered legacy. We recommend using instead the native Keras format, e.g. `model.save('my_model.keras')`.\n",
            "  saving_api.save_model(\n"
          ]
        }
      ]
    },
    {
      "cell_type": "code",
      "source": [
        "my_model = tf.keras.models.load_model('/tmp/gdrive/MyDrive/Halitras/my_model.h5')"
      ],
      "metadata": {
        "id": "ZCuJ6S-2SEDM"
      },
      "execution_count": null,
      "outputs": []
    },
    {
      "cell_type": "code",
      "source": [
        "converter = tf.lite.TFLiteConverter.from_keras_model(my_model)\n",
        "tflite_model = converter.convert()\n",
        "\n",
        "with open('/tmp/gdrive/MyDrive/Halitras/model.tflite', 'wb') as f:\n",
        "  f.write(tflite_model)"
      ],
      "metadata": {
        "id": "WPN-QhcHaf46"
      },
      "execution_count": null,
      "outputs": []
    },
    {
      "cell_type": "code",
      "source": [
        "my_model.get_config()"
      ],
      "metadata": {
        "colab": {
          "base_uri": "https://localhost:8080/"
        },
        "id": "2SoteQDaSHGU",
        "outputId": "09324683-bb90-4440-c3f6-809580dde270"
      },
      "execution_count": null,
      "outputs": [
        {
          "output_type": "execute_result",
          "data": {
            "text/plain": [
              "{'name': 'sequential',\n",
              " 'layers': [{'module': 'keras.layers',\n",
              "   'class_name': 'InputLayer',\n",
              "   'config': {'batch_input_shape': (None, 150, 150, 3),\n",
              "    'dtype': 'float32',\n",
              "    'sparse': False,\n",
              "    'ragged': False,\n",
              "    'name': 'conv2d_input'},\n",
              "   'registered_name': None},\n",
              "  {'module': 'keras.layers',\n",
              "   'class_name': 'Conv2D',\n",
              "   'config': {'name': 'conv2d',\n",
              "    'trainable': True,\n",
              "    'dtype': 'float32',\n",
              "    'batch_input_shape': (None, 150, 150, 3),\n",
              "    'filters': 8,\n",
              "    'kernel_size': (3, 3),\n",
              "    'strides': (1, 1),\n",
              "    'padding': 'valid',\n",
              "    'data_format': 'channels_last',\n",
              "    'dilation_rate': (1, 1),\n",
              "    'groups': 1,\n",
              "    'activation': 'selu',\n",
              "    'use_bias': True,\n",
              "    'kernel_initializer': {'module': 'keras.initializers',\n",
              "     'class_name': 'GlorotUniform',\n",
              "     'config': {'seed': None},\n",
              "     'registered_name': None},\n",
              "    'bias_initializer': {'module': 'keras.initializers',\n",
              "     'class_name': 'Zeros',\n",
              "     'config': {},\n",
              "     'registered_name': None},\n",
              "    'kernel_regularizer': None,\n",
              "    'bias_regularizer': None,\n",
              "    'activity_regularizer': None,\n",
              "    'kernel_constraint': None,\n",
              "    'bias_constraint': None},\n",
              "   'registered_name': None,\n",
              "   'build_config': {'input_shape': (None, 150, 150, 3)}},\n",
              "  {'module': 'keras.layers',\n",
              "   'class_name': 'MaxPooling2D',\n",
              "   'config': {'name': 'max_pooling2d',\n",
              "    'trainable': True,\n",
              "    'dtype': 'float32',\n",
              "    'pool_size': (2, 2),\n",
              "    'padding': 'valid',\n",
              "    'strides': (2, 2),\n",
              "    'data_format': 'channels_last'},\n",
              "   'registered_name': None,\n",
              "   'build_config': {'input_shape': (None, 148, 148, 8)}},\n",
              "  {'module': 'keras.layers',\n",
              "   'class_name': 'Flatten',\n",
              "   'config': {'name': 'flatten',\n",
              "    'trainable': True,\n",
              "    'dtype': 'float32',\n",
              "    'data_format': 'channels_last'},\n",
              "   'registered_name': None,\n",
              "   'build_config': {'input_shape': (None, 74, 74, 8)}},\n",
              "  {'module': 'keras.layers',\n",
              "   'class_name': 'Dense',\n",
              "   'config': {'name': 'dense',\n",
              "    'trainable': True,\n",
              "    'dtype': 'float32',\n",
              "    'units': 32,\n",
              "    'activation': 'selu',\n",
              "    'use_bias': True,\n",
              "    'kernel_initializer': {'module': 'keras.initializers',\n",
              "     'class_name': 'GlorotUniform',\n",
              "     'config': {'seed': None},\n",
              "     'registered_name': None},\n",
              "    'bias_initializer': {'module': 'keras.initializers',\n",
              "     'class_name': 'Zeros',\n",
              "     'config': {},\n",
              "     'registered_name': None},\n",
              "    'kernel_regularizer': None,\n",
              "    'bias_regularizer': None,\n",
              "    'activity_regularizer': None,\n",
              "    'kernel_constraint': None,\n",
              "    'bias_constraint': None},\n",
              "   'registered_name': None,\n",
              "   'build_config': {'input_shape': (None, 43808)}},\n",
              "  {'module': 'keras.layers',\n",
              "   'class_name': 'Dense',\n",
              "   'config': {'name': 'dense_1',\n",
              "    'trainable': True,\n",
              "    'dtype': 'float32',\n",
              "    'units': 25,\n",
              "    'activation': 'softmax',\n",
              "    'use_bias': True,\n",
              "    'kernel_initializer': {'module': 'keras.initializers',\n",
              "     'class_name': 'GlorotUniform',\n",
              "     'config': {'seed': None},\n",
              "     'registered_name': None},\n",
              "    'bias_initializer': {'module': 'keras.initializers',\n",
              "     'class_name': 'Zeros',\n",
              "     'config': {},\n",
              "     'registered_name': None},\n",
              "    'kernel_regularizer': None,\n",
              "    'bias_regularizer': None,\n",
              "    'activity_regularizer': None,\n",
              "    'kernel_constraint': None,\n",
              "    'bias_constraint': None},\n",
              "   'registered_name': None,\n",
              "   'build_config': {'input_shape': (None, 32)}}]}"
            ]
          },
          "metadata": {},
          "execution_count": 16
        }
      ]
    },
    {
      "cell_type": "code",
      "source": [
        "image = tf.keras.utils.load_img('/tmp/image/A/2021-07-24_19-09-13.jpg', target_size = (150, 150))"
      ],
      "metadata": {
        "id": "oCJFjeCASMhD"
      },
      "execution_count": null,
      "outputs": []
    },
    {
      "cell_type": "code",
      "source": [
        "image_array = tf.keras.utils.img_to_array(image)\n",
        "\n",
        "batch_image_array = np.array([image_array])\n",
        "\n",
        "result = my_model.predict(batch_image_array)\n",
        "print(result)"
      ],
      "metadata": {
        "colab": {
          "base_uri": "https://localhost:8080/"
        },
        "id": "fPLU3z_uQcBg",
        "outputId": "4a0623cd-61af-4c6d-fb47-6c9bd0c273af"
      },
      "execution_count": null,
      "outputs": [
        {
          "output_type": "stream",
          "name": "stdout",
          "text": [
            "1/1 [==============================] - 0s 92ms/step\n",
            "[[1. 0. 0. 0. 0. 0. 0. 0. 0. 0. 0. 0. 0. 0. 0. 0. 0. 0. 0. 0. 0. 0. 0. 0.\n",
            "  0.]]\n"
          ]
        }
      ]
    },
    {
      "cell_type": "code",
      "source": [
        "from google.colab import files\n",
        "image = files.upload()"
      ],
      "metadata": {
        "colab": {
          "base_uri": "https://localhost:8080/",
          "height": 73
        },
        "id": "Nofg9lDAQcEk",
        "outputId": "65bedfef-5b99-4eab-8e14-f655f7429376"
      },
      "execution_count": null,
      "outputs": [
        {
          "output_type": "display_data",
          "data": {
            "text/plain": [
              "<IPython.core.display.HTML object>"
            ],
            "text/html": [
              "\n",
              "     <input type=\"file\" id=\"files-196214a9-98ce-4e99-b408-f721fe96a302\" name=\"files[]\" multiple disabled\n",
              "        style=\"border:none\" />\n",
              "     <output id=\"result-196214a9-98ce-4e99-b408-f721fe96a302\">\n",
              "      Upload widget is only available when the cell has been executed in the\n",
              "      current browser session. Please rerun this cell to enable.\n",
              "      </output>\n",
              "      <script>// Copyright 2017 Google LLC\n",
              "//\n",
              "// Licensed under the Apache License, Version 2.0 (the \"License\");\n",
              "// you may not use this file except in compliance with the License.\n",
              "// You may obtain a copy of the License at\n",
              "//\n",
              "//      http://www.apache.org/licenses/LICENSE-2.0\n",
              "//\n",
              "// Unless required by applicable law or agreed to in writing, software\n",
              "// distributed under the License is distributed on an \"AS IS\" BASIS,\n",
              "// WITHOUT WARRANTIES OR CONDITIONS OF ANY KIND, either express or implied.\n",
              "// See the License for the specific language governing permissions and\n",
              "// limitations under the License.\n",
              "\n",
              "/**\n",
              " * @fileoverview Helpers for google.colab Python module.\n",
              " */\n",
              "(function(scope) {\n",
              "function span(text, styleAttributes = {}) {\n",
              "  const element = document.createElement('span');\n",
              "  element.textContent = text;\n",
              "  for (const key of Object.keys(styleAttributes)) {\n",
              "    element.style[key] = styleAttributes[key];\n",
              "  }\n",
              "  return element;\n",
              "}\n",
              "\n",
              "// Max number of bytes which will be uploaded at a time.\n",
              "const MAX_PAYLOAD_SIZE = 100 * 1024;\n",
              "\n",
              "function _uploadFiles(inputId, outputId) {\n",
              "  const steps = uploadFilesStep(inputId, outputId);\n",
              "  const outputElement = document.getElementById(outputId);\n",
              "  // Cache steps on the outputElement to make it available for the next call\n",
              "  // to uploadFilesContinue from Python.\n",
              "  outputElement.steps = steps;\n",
              "\n",
              "  return _uploadFilesContinue(outputId);\n",
              "}\n",
              "\n",
              "// This is roughly an async generator (not supported in the browser yet),\n",
              "// where there are multiple asynchronous steps and the Python side is going\n",
              "// to poll for completion of each step.\n",
              "// This uses a Promise to block the python side on completion of each step,\n",
              "// then passes the result of the previous step as the input to the next step.\n",
              "function _uploadFilesContinue(outputId) {\n",
              "  const outputElement = document.getElementById(outputId);\n",
              "  const steps = outputElement.steps;\n",
              "\n",
              "  const next = steps.next(outputElement.lastPromiseValue);\n",
              "  return Promise.resolve(next.value.promise).then((value) => {\n",
              "    // Cache the last promise value to make it available to the next\n",
              "    // step of the generator.\n",
              "    outputElement.lastPromiseValue = value;\n",
              "    return next.value.response;\n",
              "  });\n",
              "}\n",
              "\n",
              "/**\n",
              " * Generator function which is called between each async step of the upload\n",
              " * process.\n",
              " * @param {string} inputId Element ID of the input file picker element.\n",
              " * @param {string} outputId Element ID of the output display.\n",
              " * @return {!Iterable<!Object>} Iterable of next steps.\n",
              " */\n",
              "function* uploadFilesStep(inputId, outputId) {\n",
              "  const inputElement = document.getElementById(inputId);\n",
              "  inputElement.disabled = false;\n",
              "\n",
              "  const outputElement = document.getElementById(outputId);\n",
              "  outputElement.innerHTML = '';\n",
              "\n",
              "  const pickedPromise = new Promise((resolve) => {\n",
              "    inputElement.addEventListener('change', (e) => {\n",
              "      resolve(e.target.files);\n",
              "    });\n",
              "  });\n",
              "\n",
              "  const cancel = document.createElement('button');\n",
              "  inputElement.parentElement.appendChild(cancel);\n",
              "  cancel.textContent = 'Cancel upload';\n",
              "  const cancelPromise = new Promise((resolve) => {\n",
              "    cancel.onclick = () => {\n",
              "      resolve(null);\n",
              "    };\n",
              "  });\n",
              "\n",
              "  // Wait for the user to pick the files.\n",
              "  const files = yield {\n",
              "    promise: Promise.race([pickedPromise, cancelPromise]),\n",
              "    response: {\n",
              "      action: 'starting',\n",
              "    }\n",
              "  };\n",
              "\n",
              "  cancel.remove();\n",
              "\n",
              "  // Disable the input element since further picks are not allowed.\n",
              "  inputElement.disabled = true;\n",
              "\n",
              "  if (!files) {\n",
              "    return {\n",
              "      response: {\n",
              "        action: 'complete',\n",
              "      }\n",
              "    };\n",
              "  }\n",
              "\n",
              "  for (const file of files) {\n",
              "    const li = document.createElement('li');\n",
              "    li.append(span(file.name, {fontWeight: 'bold'}));\n",
              "    li.append(span(\n",
              "        `(${file.type || 'n/a'}) - ${file.size} bytes, ` +\n",
              "        `last modified: ${\n",
              "            file.lastModifiedDate ? file.lastModifiedDate.toLocaleDateString() :\n",
              "                                    'n/a'} - `));\n",
              "    const percent = span('0% done');\n",
              "    li.appendChild(percent);\n",
              "\n",
              "    outputElement.appendChild(li);\n",
              "\n",
              "    const fileDataPromise = new Promise((resolve) => {\n",
              "      const reader = new FileReader();\n",
              "      reader.onload = (e) => {\n",
              "        resolve(e.target.result);\n",
              "      };\n",
              "      reader.readAsArrayBuffer(file);\n",
              "    });\n",
              "    // Wait for the data to be ready.\n",
              "    let fileData = yield {\n",
              "      promise: fileDataPromise,\n",
              "      response: {\n",
              "        action: 'continue',\n",
              "      }\n",
              "    };\n",
              "\n",
              "    // Use a chunked sending to avoid message size limits. See b/62115660.\n",
              "    let position = 0;\n",
              "    do {\n",
              "      const length = Math.min(fileData.byteLength - position, MAX_PAYLOAD_SIZE);\n",
              "      const chunk = new Uint8Array(fileData, position, length);\n",
              "      position += length;\n",
              "\n",
              "      const base64 = btoa(String.fromCharCode.apply(null, chunk));\n",
              "      yield {\n",
              "        response: {\n",
              "          action: 'append',\n",
              "          file: file.name,\n",
              "          data: base64,\n",
              "        },\n",
              "      };\n",
              "\n",
              "      let percentDone = fileData.byteLength === 0 ?\n",
              "          100 :\n",
              "          Math.round((position / fileData.byteLength) * 100);\n",
              "      percent.textContent = `${percentDone}% done`;\n",
              "\n",
              "    } while (position < fileData.byteLength);\n",
              "  }\n",
              "\n",
              "  // All done.\n",
              "  yield {\n",
              "    response: {\n",
              "      action: 'complete',\n",
              "    }\n",
              "  };\n",
              "}\n",
              "\n",
              "scope.google = scope.google || {};\n",
              "scope.google.colab = scope.google.colab || {};\n",
              "scope.google.colab._files = {\n",
              "  _uploadFiles,\n",
              "  _uploadFilesContinue,\n",
              "};\n",
              "})(self);\n",
              "</script> "
            ]
          },
          "metadata": {}
        },
        {
          "output_type": "stream",
          "name": "stdout",
          "text": [
            "Saving 2021-07-24_19-09-13.jpg to 2021-07-24_19-09-13.jpg\n"
          ]
        }
      ]
    },
    {
      "cell_type": "code",
      "source": [
        "result = my_model.predict(image)\n",
        "print(result)"
      ],
      "metadata": {
        "id": "aNwERSJOQcHN"
      },
      "execution_count": null,
      "outputs": []
    },
    {
      "cell_type": "code",
      "source": [
        "image_array = tf.keras.utils.img_to_array(image)"
      ],
      "metadata": {
        "id": "02_YPGizSwsr"
      },
      "execution_count": null,
      "outputs": []
    },
    {
      "cell_type": "code",
      "source": [
        "image_array.shape"
      ],
      "metadata": {
        "colab": {
          "base_uri": "https://localhost:8080/"
        },
        "id": "8awTSSrNTMkA",
        "outputId": "8a816b96-0a07-495a-b6eb-128dd20fe6ba"
      },
      "execution_count": null,
      "outputs": [
        {
          "output_type": "execute_result",
          "data": {
            "text/plain": [
              "(150, 150, 3)"
            ]
          },
          "metadata": {},
          "execution_count": 82
        }
      ]
    },
    {
      "cell_type": "code",
      "source": [
        "batch_image_array = np.array([image_array])"
      ],
      "metadata": {
        "id": "fiIJ2zQMTbwf"
      },
      "execution_count": null,
      "outputs": []
    },
    {
      "cell_type": "code",
      "source": [
        "batch_image_array.shape"
      ],
      "metadata": {
        "colab": {
          "base_uri": "https://localhost:8080/"
        },
        "id": "dIFFDBFcTl2m",
        "outputId": "d757174f-7b89-432d-b8d7-a35b03e0ffca"
      },
      "execution_count": null,
      "outputs": [
        {
          "output_type": "execute_result",
          "data": {
            "text/plain": [
              "(1, 150, 150, 3)"
            ]
          },
          "metadata": {},
          "execution_count": 84
        }
      ]
    },
    {
      "cell_type": "code",
      "source": [
        "result = my_model.predict(batch_image_array)"
      ],
      "metadata": {
        "colab": {
          "base_uri": "https://localhost:8080/"
        },
        "id": "hSL5edaFTpzP",
        "outputId": "989a19d9-babe-43be-c1ce-d7634599ca69"
      },
      "execution_count": null,
      "outputs": [
        {
          "output_type": "stream",
          "name": "stdout",
          "text": [
            "1/1 [==============================] - 0s 19ms/step\n"
          ]
        }
      ]
    },
    {
      "cell_type": "code",
      "source": [
        "print(result)"
      ],
      "metadata": {
        "colab": {
          "base_uri": "https://localhost:8080/"
        },
        "id": "BTlgv2xtTvQT",
        "outputId": "1decdf63-391f-4b55-dbcf-ebff429fd514"
      },
      "execution_count": null,
      "outputs": [
        {
          "output_type": "stream",
          "name": "stdout",
          "text": [
            "[[0. 0. 0. 0. 0. 0. 0. 0. 0. 0. 0. 0. 0. 0. 0. 0. 0. 0. 0. 0. 0. 0. 0. 0.\n",
            "  1.]]\n"
          ]
        }
      ]
    }
  ],
  "metadata": {
    "accelerator": "GPU",
    "colab": {
      "provenance": [],
      "gpuType": "T4"
    },
    "kernelspec": {
      "display_name": "Python 3",
      "name": "python3"
    },
    "language_info": {
      "name": "python"
    }
  },
  "nbformat": 4,
  "nbformat_minor": 0
}