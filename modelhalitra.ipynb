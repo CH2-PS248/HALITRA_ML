{
  "nbformat": 4,
  "nbformat_minor": 0,
  "metadata": {
    "colab": {
      "provenance": [],
      "gpuType": "T4"
    },
    "kernelspec": {
      "name": "python3",
      "display_name": "Python 3"
    },
    "language_info": {
      "name": "python"
    },
    "accelerator": "GPU"
  },
  "cells": [
    {
      "cell_type": "code",
      "execution_count": null,
      "metadata": {
        "id": "0rJx7KInLtey",
        "outputId": "fa78d41f-d29a-4494-80fd-13455d9f7e29",
        "colab": {
          "base_uri": "https://localhost:8080/"
        }
      },
      "outputs": [
        {
          "output_type": "stream",
          "name": "stdout",
          "text": [
            "Mounted at /tmp/gdrive\n"
          ]
        }
      ],
      "source": [
        "import numpy as np\n",
        "import pandas as pd\n",
        "import tensorflow as tf\n",
        "import os\n",
        "import cv2\n",
        "import shutil\n",
        "import gc\n",
        "import zipfile\n",
        "import matplotlib.pyplot as plt\n",
        "from tqdm import tqdm\n",
        "from google.colab import drive\n",
        "from sklearn.model_selection import train_test_split\n",
        "\n",
        "drive.mount('/tmp/gdrive')\n",
        "\n",
        "local_zip = '/tmp/gdrive/MyDrive/Halitra/bisindo.zip'\n",
        "zip_ref   = zipfile.ZipFile(local_zip, 'r')\n",
        "zip_ref.extractall('/tmp')\n",
        "zip_ref.close()"
      ]
    },
    {
      "cell_type": "code",
      "source": [
        "training_dir = os.path.join('/tmp', 'bisindo', 'images')\n",
        "!mkdir '/tmp/validation'\n",
        "\n",
        "validation_dataset_portion = 0.1\n",
        "\n",
        "for class_dir_name in os.listdir(training_dir):\n",
        "  class_dir_path = os.path.join(training_dir, class_dir_name)\n",
        "  train_dataset_num = len(os.listdir(class_dir_path))\n",
        "\n",
        "  val_dataset_num = train_dataset_num * validation_dataset_portion\n",
        "\n",
        "  val_class_dir_path = os.path.join('/tmp/validation/', class_dir_name)\n",
        "  os.mkdir(val_class_dir_path)\n",
        "\n",
        "  counter = 0\n",
        "\n",
        "  for file_name in os.listdir(class_dir_path):\n",
        "    filepath = os.path.join(class_dir_path, file_name)\n",
        "    if counter < val_dataset_num:\n",
        "      destination = os.path.join(val_class_dir_path, file_name)\n",
        "      shutil.move(filepath, destination)\n",
        "      counter += 1\n",
        "\n",
        "training = tf.keras.preprocessing.image.ImageDataGenerator (\n",
        "    rescale=1./255,\n",
        "    rotation_range=20,\n",
        "    width_shift_range=0.2,\n",
        "    height_shift_range=0.2,\n",
        "    shear_range=0.2,\n",
        "    zoom_range=0.2,\n",
        "    horizontal_flip=True,\n",
        "    fill_mode='nearest'\n",
        ")\n",
        "validation = tf.keras.preprocessing.image.ImageDataGenerator (\n",
        "    rescale=1./255,\n",
        "    rotation_range=20,\n",
        "    width_shift_range=0.2,\n",
        "    height_shift_range=0.2,\n",
        "    shear_range=0.2,\n",
        "    zoom_range=0.2,\n",
        "    horizontal_flip=True,\n",
        "    fill_mode='nearest'\n",
        ")\n",
        "\n",
        "training_generator = training.flow_from_directory(\n",
        "    training_dir,\n",
        "    target_size = (150,150),\n",
        "    batch_size = 32,\n",
        "    class_mode = 'categorical',\n",
        "    shuffle = True\n",
        ")\n",
        "\n",
        "validation_generator = validation.flow_from_directory(\n",
        "    '/tmp/validation',\n",
        "    target_size = (150,150),\n",
        "    batch_size = 32,\n",
        "    class_mode = 'categorical',\n",
        "    shuffle = True\n",
        ")\n",
        "\n",
        "model = tf.keras.models.Sequential ([\n",
        "    tf.keras.layers.Conv2D(32, (3, 3), activation='relu', input_shape=(150, 150, 3)),\n",
        "    tf.keras.layers.MaxPooling2D((2, 2)),\n",
        "    tf.keras.layers.Conv2D(64, (3, 3), activation='relu'),\n",
        "    tf.keras.layers.MaxPooling2D((2, 2)),\n",
        "    tf.keras.layers.Conv2D(128, (3, 3), activation='relu'),\n",
        "    tf.keras.layers.MaxPooling2D((2, 2)),\n",
        "    tf.keras.layers.Flatten(),\n",
        "    tf.keras.layers.Dense(128, activation='relu'),\n",
        "    tf.keras.layers.Dense(26, activation='softmax')\n",
        "])\n",
        "\n",
        "model.compile (\n",
        "    optimizer='adam',\n",
        "    loss='categorical_crossentropy',\n",
        "    metrics=['accuracy']\n",
        ")\n",
        "\n",
        "model.fit(\n",
        "    training_generator,\n",
        "    validation_data = validation_generator,\n",
        "    epochs = 15\n",
        ")"
      ],
      "metadata": {
        "colab": {
          "base_uri": "https://localhost:8080/"
        },
        "id": "vx1PJxj5Lya3",
        "outputId": "547daa96-711b-4284-f259-a021f23cd7db"
      },
      "execution_count": null,
      "outputs": [
        {
          "output_type": "stream",
          "name": "stdout",
          "text": [
            "Found 10315 images belonging to 26 classes.\n",
            "Found 1155 images belonging to 26 classes.\n",
            "Epoch 1/15\n",
            "323/323 [==============================] - 113s 331ms/step - loss: 3.1863 - accuracy: 0.0791 - val_loss: 2.7237 - val_accuracy: 0.2268\n",
            "Epoch 2/15\n",
            "323/323 [==============================] - 122s 377ms/step - loss: 2.0790 - accuracy: 0.4035 - val_loss: 1.5067 - val_accuracy: 0.5758\n",
            "Epoch 3/15\n",
            "323/323 [==============================] - 107s 331ms/step - loss: 1.3702 - accuracy: 0.6101 - val_loss: 1.1763 - val_accuracy: 0.6450\n",
            "Epoch 4/15\n",
            "323/323 [==============================] - 108s 333ms/step - loss: 1.1337 - accuracy: 0.6713 - val_loss: 1.0031 - val_accuracy: 0.7195\n",
            "Epoch 5/15\n",
            "323/323 [==============================] - 107s 330ms/step - loss: 0.9971 - accuracy: 0.7091 - val_loss: 0.9095 - val_accuracy: 0.7281\n",
            "Epoch 6/15\n",
            "323/323 [==============================] - 107s 333ms/step - loss: 0.9216 - accuracy: 0.7327 - val_loss: 0.8575 - val_accuracy: 0.7498\n",
            "Epoch 7/15\n",
            "323/323 [==============================] - 105s 326ms/step - loss: 0.8530 - accuracy: 0.7479 - val_loss: 0.7580 - val_accuracy: 0.7931\n",
            "Epoch 8/15\n",
            "323/323 [==============================] - 116s 359ms/step - loss: 0.8013 - accuracy: 0.7624 - val_loss: 0.7614 - val_accuracy: 0.7723\n",
            "Epoch 9/15\n",
            "323/323 [==============================] - 105s 325ms/step - loss: 0.7333 - accuracy: 0.7810 - val_loss: 0.6854 - val_accuracy: 0.7991\n",
            "Epoch 10/15\n",
            "323/323 [==============================] - 105s 327ms/step - loss: 0.7110 - accuracy: 0.7840 - val_loss: 0.6032 - val_accuracy: 0.8182\n",
            "Epoch 11/15\n",
            "323/323 [==============================] - 108s 336ms/step - loss: 0.6687 - accuracy: 0.7965 - val_loss: 0.6210 - val_accuracy: 0.8139\n",
            "Epoch 12/15\n",
            "323/323 [==============================] - 106s 328ms/step - loss: 0.6500 - accuracy: 0.8028 - val_loss: 0.6035 - val_accuracy: 0.8303\n",
            "Epoch 13/15\n",
            "323/323 [==============================] - 107s 331ms/step - loss: 0.6353 - accuracy: 0.8030 - val_loss: 0.5768 - val_accuracy: 0.8173\n",
            "Epoch 14/15\n",
            "323/323 [==============================] - 106s 327ms/step - loss: 0.6147 - accuracy: 0.8111 - val_loss: 0.6254 - val_accuracy: 0.8208\n",
            "Epoch 15/15\n",
            "323/323 [==============================] - 105s 326ms/step - loss: 0.5813 - accuracy: 0.8222 - val_loss: 0.5812 - val_accuracy: 0.8277\n"
          ]
        },
        {
          "output_type": "execute_result",
          "data": {
            "text/plain": [
              "<keras.src.callbacks.History at 0x7882ca92a170>"
            ]
          },
          "metadata": {},
          "execution_count": 2
        }
      ]
    },
    {
      "cell_type": "code",
      "source": [
        "from pathlib import Path\n",
        "\n",
        "model.save('/tmp/gdrive/MyDrive/Halitra/sign 1.h5')\n",
        "\n",
        "my_model = tf.keras.models.load_model('/tmp/gdrive/MyDrive/Halitra/sign 1.h5')\n",
        "\n",
        "converter = tf.lite.TFLiteConverter.from_keras_model(my_model)\n",
        "tflite_model = converter.convert()\n",
        "\n",
        "tflite_path = '/tmp/gdrive/MyDrive/Halitra/sign_1.tflite'\n",
        "tflite_path = Path(tflite_path)\n",
        "\n",
        "# Simpan model TFLite ke file\n",
        "tflite_path.write_bytes(tflite_model)\n",
        "\n",
        "# Tampilkan konfigurasi model Keras\n",
        "print(my_model.get_config())"
      ],
      "metadata": {
        "colab": {
          "base_uri": "https://localhost:8080/"
        },
        "id": "Tckf0y2gB8Xq",
        "outputId": "5ab7d1ea-8f30-481b-b6ea-071677917b8f"
      },
      "execution_count": null,
      "outputs": [
        {
          "output_type": "stream",
          "name": "stderr",
          "text": [
            "/usr/local/lib/python3.10/dist-packages/keras/src/engine/training.py:3103: UserWarning: You are saving your model as an HDF5 file via `model.save()`. This file format is considered legacy. We recommend using instead the native Keras format, e.g. `model.save('my_model.keras')`.\n",
            "  saving_api.save_model(\n"
          ]
        },
        {
          "output_type": "stream",
          "name": "stdout",
          "text": [
            "{'name': 'sequential', 'layers': [{'module': 'keras.layers', 'class_name': 'InputLayer', 'config': {'batch_input_shape': (None, 150, 150, 3), 'dtype': 'float32', 'sparse': False, 'ragged': False, 'name': 'conv2d_input'}, 'registered_name': None}, {'module': 'keras.layers', 'class_name': 'Conv2D', 'config': {'name': 'conv2d', 'trainable': True, 'dtype': 'float32', 'batch_input_shape': (None, 150, 150, 3), 'filters': 32, 'kernel_size': (3, 3), 'strides': (1, 1), 'padding': 'valid', 'data_format': 'channels_last', 'dilation_rate': (1, 1), 'groups': 1, 'activation': 'relu', 'use_bias': True, 'kernel_initializer': {'module': 'keras.initializers', 'class_name': 'GlorotUniform', 'config': {'seed': None}, 'registered_name': None}, 'bias_initializer': {'module': 'keras.initializers', 'class_name': 'Zeros', 'config': {}, 'registered_name': None}, 'kernel_regularizer': None, 'bias_regularizer': None, 'activity_regularizer': None, 'kernel_constraint': None, 'bias_constraint': None}, 'registered_name': None, 'build_config': {'input_shape': (None, 150, 150, 3)}}, {'module': 'keras.layers', 'class_name': 'MaxPooling2D', 'config': {'name': 'max_pooling2d', 'trainable': True, 'dtype': 'float32', 'pool_size': (2, 2), 'padding': 'valid', 'strides': (2, 2), 'data_format': 'channels_last'}, 'registered_name': None, 'build_config': {'input_shape': (None, 148, 148, 32)}}, {'module': 'keras.layers', 'class_name': 'Conv2D', 'config': {'name': 'conv2d_1', 'trainable': True, 'dtype': 'float32', 'filters': 64, 'kernel_size': (3, 3), 'strides': (1, 1), 'padding': 'valid', 'data_format': 'channels_last', 'dilation_rate': (1, 1), 'groups': 1, 'activation': 'relu', 'use_bias': True, 'kernel_initializer': {'module': 'keras.initializers', 'class_name': 'GlorotUniform', 'config': {'seed': None}, 'registered_name': None}, 'bias_initializer': {'module': 'keras.initializers', 'class_name': 'Zeros', 'config': {}, 'registered_name': None}, 'kernel_regularizer': None, 'bias_regularizer': None, 'activity_regularizer': None, 'kernel_constraint': None, 'bias_constraint': None}, 'registered_name': None, 'build_config': {'input_shape': (None, 74, 74, 32)}}, {'module': 'keras.layers', 'class_name': 'MaxPooling2D', 'config': {'name': 'max_pooling2d_1', 'trainable': True, 'dtype': 'float32', 'pool_size': (2, 2), 'padding': 'valid', 'strides': (2, 2), 'data_format': 'channels_last'}, 'registered_name': None, 'build_config': {'input_shape': (None, 72, 72, 64)}}, {'module': 'keras.layers', 'class_name': 'Conv2D', 'config': {'name': 'conv2d_2', 'trainable': True, 'dtype': 'float32', 'filters': 128, 'kernel_size': (3, 3), 'strides': (1, 1), 'padding': 'valid', 'data_format': 'channels_last', 'dilation_rate': (1, 1), 'groups': 1, 'activation': 'relu', 'use_bias': True, 'kernel_initializer': {'module': 'keras.initializers', 'class_name': 'GlorotUniform', 'config': {'seed': None}, 'registered_name': None}, 'bias_initializer': {'module': 'keras.initializers', 'class_name': 'Zeros', 'config': {}, 'registered_name': None}, 'kernel_regularizer': None, 'bias_regularizer': None, 'activity_regularizer': None, 'kernel_constraint': None, 'bias_constraint': None}, 'registered_name': None, 'build_config': {'input_shape': (None, 36, 36, 64)}}, {'module': 'keras.layers', 'class_name': 'MaxPooling2D', 'config': {'name': 'max_pooling2d_2', 'trainable': True, 'dtype': 'float32', 'pool_size': (2, 2), 'padding': 'valid', 'strides': (2, 2), 'data_format': 'channels_last'}, 'registered_name': None, 'build_config': {'input_shape': (None, 34, 34, 128)}}, {'module': 'keras.layers', 'class_name': 'Flatten', 'config': {'name': 'flatten', 'trainable': True, 'dtype': 'float32', 'data_format': 'channels_last'}, 'registered_name': None, 'build_config': {'input_shape': (None, 17, 17, 128)}}, {'module': 'keras.layers', 'class_name': 'Dense', 'config': {'name': 'dense', 'trainable': True, 'dtype': 'float32', 'units': 128, 'activation': 'relu', 'use_bias': True, 'kernel_initializer': {'module': 'keras.initializers', 'class_name': 'GlorotUniform', 'config': {'seed': None}, 'registered_name': None}, 'bias_initializer': {'module': 'keras.initializers', 'class_name': 'Zeros', 'config': {}, 'registered_name': None}, 'kernel_regularizer': None, 'bias_regularizer': None, 'activity_regularizer': None, 'kernel_constraint': None, 'bias_constraint': None}, 'registered_name': None, 'build_config': {'input_shape': (None, 36992)}}, {'module': 'keras.layers', 'class_name': 'Dense', 'config': {'name': 'dense_1', 'trainable': True, 'dtype': 'float32', 'units': 26, 'activation': 'softmax', 'use_bias': True, 'kernel_initializer': {'module': 'keras.initializers', 'class_name': 'GlorotUniform', 'config': {'seed': None}, 'registered_name': None}, 'bias_initializer': {'module': 'keras.initializers', 'class_name': 'Zeros', 'config': {}, 'registered_name': None}, 'kernel_regularizer': None, 'bias_regularizer': None, 'activity_regularizer': None, 'kernel_constraint': None, 'bias_constraint': None}, 'registered_name': None, 'build_config': {'input_shape': (None, 128)}}]}\n"
          ]
        }
      ]
    },
    {
      "cell_type": "code",
      "source": [],
      "metadata": {
        "id": "bV_QtdKhJ4Lu"
      },
      "execution_count": null,
      "outputs": []
    }
  ]
}